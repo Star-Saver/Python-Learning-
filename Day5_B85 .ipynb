{
 "cells": [
  {
   "cell_type": "code",
   "execution_count": null,
   "id": "5869bef8",
   "metadata": {},
   "outputs": [],
   "source": [
    "Continuation of list data type.\n"
   ]
  },
  {
   "cell_type": "code",
   "execution_count": null,
   "id": "01147ba8",
   "metadata": {},
   "outputs": [],
   "source": [
    "Organising list datatype:"
   ]
  },
  {
   "cell_type": "code",
   "execution_count": 1,
   "id": "8de423f6",
   "metadata": {},
   "outputs": [],
   "source": [
    "cars = ['suzuki', 'maruthi', 'hyundai', 'benz', 'kia', 'audi', 'tata', 'bmw']"
   ]
  },
  {
   "cell_type": "code",
   "execution_count": 2,
   "id": "9c44e9c8",
   "metadata": {},
   "outputs": [
    {
     "name": "stdout",
     "output_type": "stream",
     "text": [
      "['suzuki', 'maruthi', 'hyundai', 'benz', 'kia', 'audi', 'tata', 'bmw']\n"
     ]
    }
   ],
   "source": [
    "print(cars)http://localhost:8888/notebooks/Day5_B85%20.ipynb#"
   ]
  },
  {
   "cell_type": "code",
   "execution_count": null,
   "id": "eb76bfaa",
   "metadata": {},
   "outputs": [],
   "source": [
    "#req: Organise the above list in a alphateical order wise: A - Z"
   ]
  },
  {
   "cell_type": "code",
   "execution_count": null,
   "id": "6cf3f725",
   "metadata": {},
   "outputs": [],
   "source": [
    "Approaches:\n",
    "    \n",
    "    1. Temp approach ---> The original defined list order can be retreived\n",
    "    2. Permanent approach ---> The changes made to the list will be permament.\n",
    "        "
   ]
  },
  {
   "cell_type": "code",
   "execution_count": 3,
   "id": "f06b4823",
   "metadata": {},
   "outputs": [
    {
     "ename": "NameError",
     "evalue": "name 'printer' is not defined",
     "output_type": "error",
     "traceback": [
      "\u001b[1;31m---------------------------------------------------------------------------\u001b[0m",
      "\u001b[1;31mNameError\u001b[0m                                 Traceback (most recent call last)",
      "Cell \u001b[1;32mIn[3], line 1\u001b[0m\n\u001b[1;32m----> 1\u001b[0m printer(\u001b[38;5;28msorted\u001b[39m(cars))\n",
      "\u001b[1;31mNameError\u001b[0m: name 'printer' is not defined"
     ]
    }
   ],
   "source": [
    "printer(sorted(cars))"
   ]
  },
  {
   "cell_type": "code",
   "execution_count": 4,
   "id": "80666075",
   "metadata": {},
   "outputs": [
    {
     "name": "stdout",
     "output_type": "stream",
     "text": [
      "['audi', 'benz', 'bmw', 'hyundai', 'kia', 'maruthi', 'suzuki', 'tata']\n"
     ]
    }
   ],
   "source": [
    "print(sorted(cars))"
   ]
  },
  {
   "cell_type": "code",
   "execution_count": null,
   "id": "93ebdbbb",
   "metadata": {},
   "outputs": [],
   "source": [
    "#req: To count the no of elements in list datatype."
   ]
  },
  {
   "cell_type": "code",
   "execution_count": 5,
   "id": "664706ce",
   "metadata": {},
   "outputs": [
    {
     "data": {
      "text/plain": [
       "8"
      ]
     },
     "execution_count": 5,
     "metadata": {},
     "output_type": "execute_result"
    }
   ],
   "source": [
    "len(cars)"
   ]
  },
  {
   "cell_type": "code",
   "execution_count": 6,
   "id": "1fadfe45",
   "metadata": {},
   "outputs": [
    {
     "name": "stdout",
     "output_type": "stream",
     "text": [
      "['suzuki', 'maruthi', 'hyundai', 'benz', 'kia', 'audi', 'tata', 'bmw']\n"
     ]
    }
   ],
   "source": [
    "print(cars)"
   ]
  },
  {
   "cell_type": "code",
   "execution_count": 7,
   "id": "f666683d",
   "metadata": {},
   "outputs": [],
   "source": [
    "cars.sort()\n"
   ]
  },
  {
   "cell_type": "code",
   "execution_count": 8,
   "id": "a6c9ae70",
   "metadata": {},
   "outputs": [
    {
     "name": "stdout",
     "output_type": "stream",
     "text": [
      "['audi', 'benz', 'bmw', 'hyundai', 'kia', 'maruthi', 'suzuki', 'tata']\n"
     ]
    }
   ],
   "source": [
    "print(cars)"
   ]
  },
  {
   "cell_type": "code",
   "execution_count": 9,
   "id": "f1976262",
   "metadata": {},
   "outputs": [],
   "source": [
    "cars.reverse()"
   ]
  },
  {
   "cell_type": "code",
   "execution_count": 10,
   "id": "1a0d011f",
   "metadata": {},
   "outputs": [
    {
     "name": "stdout",
     "output_type": "stream",
     "text": [
      "['tata', 'suzuki', 'maruthi', 'kia', 'hyundai', 'bmw', 'benz', 'audi']\n"
     ]
    }
   ],
   "source": [
    "print(cars)"
   ]
  },
  {
   "cell_type": "code",
   "execution_count": null,
   "id": "9abe2b3e",
   "metadata": {},
   "outputs": [],
   "source": [
    "Introduction to Slicing:"
   ]
  },
  {
   "cell_type": "code",
   "execution_count": 11,
   "id": "65ec6441",
   "metadata": {},
   "outputs": [],
   "source": [
    "students = ['parvez', 'naveen', 'khadija', 'roja','karthik', 'joseph']"
   ]
  },
  {
   "cell_type": "code",
   "execution_count": 12,
   "id": "a2a91c23",
   "metadata": {},
   "outputs": [
    {
     "name": "stdout",
     "output_type": "stream",
     "text": [
      "['parvez', 'naveen', 'khadija', 'roja', 'karthik', 'joseph']\n"
     ]
    }
   ],
   "source": [
    "print(students)"
   ]
  },
  {
   "cell_type": "code",
   "execution_count": null,
   "id": "0ba7b2a3",
   "metadata": {},
   "outputs": [],
   "source": [
    "#general syntax of slicing:"
   ]
  },
  {
   "cell_type": "code",
   "execution_count": null,
   "id": "109f6d78",
   "metadata": {},
   "outputs": [],
   "source": [
    "[start_value:stop_value:step_count]"
   ]
  },
  {
   "cell_type": "code",
   "execution_count": null,
   "id": "8e53ed49",
   "metadata": {},
   "outputs": [],
   "source": [
    "Note: last value is always exclusive, to include it we have to increment the index by +1"
   ]
  },
  {
   "cell_type": "code",
   "execution_count": null,
   "id": "82a74d3d",
   "metadata": {},
   "outputs": [],
   "source": [
    "#req: To get parvez and naveeen in a slice"
   ]
  },
  {
   "cell_type": "code",
   "execution_count": 14,
   "id": "c46091ca",
   "metadata": {},
   "outputs": [
    {
     "name": "stdout",
     "output_type": "stream",
     "text": [
      "['parvez', 'naveen']\n"
     ]
    }
   ],
   "source": [
    "print(students[0:2])"
   ]
  },
  {
   "cell_type": "code",
   "execution_count": null,
   "id": "d4bc8399",
   "metadata": {},
   "outputs": [],
   "source": [
    "#req: To include khadija and roja in the slice"
   ]
  },
  {
   "cell_type": "code",
   "execution_count": 15,
   "id": "79ec6c09",
   "metadata": {},
   "outputs": [
    {
     "name": "stdout",
     "output_type": "stream",
     "text": [
      "['khadija', 'roja']\n"
     ]
    }
   ],
   "source": [
    "print(students[2:4])"
   ]
  },
  {
   "cell_type": "code",
   "execution_count": null,
   "id": "e85150a2",
   "metadata": {},
   "outputs": [],
   "source": [
    "#req: to slice karthik and joseph"
   ]
  },
  {
   "cell_type": "code",
   "execution_count": 16,
   "id": "3b541835",
   "metadata": {},
   "outputs": [
    {
     "name": "stdout",
     "output_type": "stream",
     "text": [
      "['karthik', 'joseph']\n"
     ]
    }
   ],
   "source": [
    "print(students[4:6])"
   ]
  },
  {
   "cell_type": "code",
   "execution_count": 17,
   "id": "19b2e6d3",
   "metadata": {},
   "outputs": [
    {
     "name": "stdout",
     "output_type": "stream",
     "text": [
      "['parvez', 'khadija', 'karthik']\n"
     ]
    }
   ],
   "source": [
    "print(students[0:6:2])"
   ]
  },
  {
   "cell_type": "code",
   "execution_count": 18,
   "id": "fd82a1e8",
   "metadata": {},
   "outputs": [
    {
     "name": "stdout",
     "output_type": "stream",
     "text": [
      "['parvez', 'naveen', 'khadija', 'roja', 'karthik', 'joseph']\n"
     ]
    }
   ],
   "source": [
    "print(students[0:6:1])"
   ]
  },
  {
   "cell_type": "code",
   "execution_count": null,
   "id": "3be2da1a",
   "metadata": {},
   "outputs": [],
   "source": []
  },
  {
   "cell_type": "code",
   "execution_count": null,
   "id": "71525346",
   "metadata": {},
   "outputs": [],
   "source": []
  },
  {
   "cell_type": "code",
   "execution_count": null,
   "id": "fe2d7da0",
   "metadata": {},
   "outputs": [],
   "source": []
  },
  {
   "cell_type": "code",
   "execution_count": null,
   "id": "3803dfe4",
   "metadata": {},
   "outputs": [],
   "source": []
  },
  {
   "cell_type": "code",
   "execution_count": null,
   "id": "1d6d4250",
   "metadata": {},
   "outputs": [],
   "source": []
  },
  {
   "cell_type": "code",
   "execution_count": null,
   "id": "9549a542",
   "metadata": {},
   "outputs": [],
   "source": []
  },
  {
   "cell_type": "code",
   "execution_count": null,
   "id": "ceb01d69",
   "metadata": {},
   "outputs": [],
   "source": []
  }
 ],
 "metadata": {
  "kernelspec": {
   "display_name": "Python 3 (ipykernel)",
   "language": "python",
   "name": "python3"
  },
  "language_info": {
   "codemirror_mode": {
    "name": "ipython",
    "version": 3
   },
   "file_extension": ".py",
   "mimetype": "text/x-python",
   "name": "python",
   "nbconvert_exporter": "python",
   "pygments_lexer": "ipython3",
   "version": "3.11.5"
  }
 },
 "nbformat": 4,
 "nbformat_minor": 5
}
